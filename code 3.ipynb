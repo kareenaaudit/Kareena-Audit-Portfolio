{
 "cells": [
  {
   "cell_type": "code",
   "execution_count": 29,
   "id": "54e9337a",
   "metadata": {},
   "outputs": [],
   "source": [
    "import numpy as np\n",
    "import scipy.optimize as opt\n",
    "import pandas as pd\n",
    "import matplotlib.pyplot as plt\n",
    "%matplotlib inline\n",
    "from matplotlib import style\n",
    "style.use('https://gunerilhan.github.io/img/fivethirtyeight-modified.mplstyle')"
   ]
  },
  {
   "cell_type": "code",
   "execution_count": 2,
   "id": "a6c169c0",
   "metadata": {},
   "outputs": [],
   "source": [
    "#exercise 0 & 1\n",
    "al = 1/3"
   ]
  },
  {
   "cell_type": "code",
   "execution_count": 3,
   "id": "ec7d14e4",
   "metadata": {},
   "outputs": [],
   "source": [
    "#utility function\n",
    "def u1(x):\n",
    "    return -x[0]**(al)*x[1]**(1-al)\n",
    "\n",
    "#market price \n",
    "p = np.array ([1,0.5])\n",
    "\n",
    "#current supply\n",
    "cs = np.array ([2,0.5])\n",
    "\n",
    "#budget constraint\n",
    "def con1(x):\n",
    "    return (cs[0]*p[0])+(cs[1]*p[1])-x[0]*p[0]-x[1]*p[1]"
   ]
  },
  {
   "cell_type": "code",
   "execution_count": 4,
   "id": "fb5d768c",
   "metadata": {},
   "outputs": [],
   "source": [
    "constr = {'type':'ineq','fun':con1}\n",
    "x0 = np.array([1,1])"
   ]
  },
  {
   "cell_type": "code",
   "execution_count": 5,
   "id": "cb688398",
   "metadata": {},
   "outputs": [
    {
     "data": {
      "text/plain": [
       "     fun: -1.889881554231081\n",
       "     jac: array([-0.83977194, -0.42001754])\n",
       " message: 'Optimization terminated successfully'\n",
       "    nfev: 18\n",
       "     nit: 6\n",
       "    njev: 6\n",
       "  status: 0\n",
       " success: True\n",
       "       x: array([0.75015665, 2.99968669])"
      ]
     },
     "execution_count": 5,
     "metadata": {},
     "output_type": "execute_result"
    }
   ],
   "source": [
    "opt.minimize(u1,x0,constraints=constr)"
   ]
  },
  {
   "cell_type": "code",
   "execution_count": 6,
   "id": "fd079895",
   "metadata": {},
   "outputs": [],
   "source": [
    "#exercise 2\n",
    "al1 = 2/3"
   ]
  },
  {
   "cell_type": "code",
   "execution_count": 7,
   "id": "f4fe0fa0",
   "metadata": {},
   "outputs": [],
   "source": [
    "def u2(x):\n",
    "    return -x[0]**al1*x[1]**(1-al1)\n",
    "\n",
    "p = np.array([1,0.5])\n",
    "\n",
    "cs = np.array([0.5,2])\n",
    "\n",
    "def con2(x):\n",
    "    return (cs[0]*p[0])+(cs[1]*p[1])-x[0]*p[0]-x[1]*p[1]"
   ]
  },
  {
   "cell_type": "code",
   "execution_count": 8,
   "id": "e00b65f5",
   "metadata": {},
   "outputs": [],
   "source": [
    "constr1 = {'type':'ineq','fun':con2}\n",
    "x0 = np.array([1,1])"
   ]
  },
  {
   "cell_type": "code",
   "execution_count": 9,
   "id": "a295cdaf",
   "metadata": {},
   "outputs": [
    {
     "data": {
      "text/plain": [
       "     fun: -1.2599209984792805\n",
       "     jac: array([-0.83960807, -0.42005852])\n",
       " message: 'Optimization terminated successfully'\n",
       "    nfev: 15\n",
       "     nit: 5\n",
       "    njev: 5\n",
       "  status: 0\n",
       " success: True\n",
       "       x: array([0.50020202, 1.99959595])"
      ]
     },
     "execution_count": 9,
     "metadata": {},
     "output_type": "execute_result"
    }
   ],
   "source": [
    "opt.minimize(u1,x0,constraints=constr1)"
   ]
  },
  {
   "cell_type": "code",
   "execution_count": 10,
   "id": "8617f102",
   "metadata": {},
   "outputs": [
    {
     "data": {
      "text/plain": [
       "2.0"
      ]
     },
     "execution_count": 10,
     "metadata": {},
     "output_type": "execute_result"
    }
   ],
   "source": [
    "#exercise 3\n",
    "#no, the beef makret does not clear. This is because total demand for beef is not equal to the sum of\n",
    "#alisons and jasons beef endowments as there is a 4.5 excess. \n",
    "qb = np.array([0.5,2])\n",
    "\n",
    "def markb(B):\n",
    "    return B -(qb[0])-(qb[1])\n",
    "\n",
    "markb(4.5)"
   ]
  },
  {
   "cell_type": "code",
   "execution_count": 11,
   "id": "ec626bac",
   "metadata": {},
   "outputs": [
    {
     "data": {
      "text/plain": [
       "-0.25"
      ]
     },
     "execution_count": 11,
     "metadata": {},
     "output_type": "execute_result"
    }
   ],
   "source": [
    "#exercise 4\n",
    "#the tofu market does not clear. this is because there is a an excess of 0.25\n",
    "qt = np.array([2,0.5])\n",
    "\n",
    "def markt(T):\n",
    "    return T -(qt[0])-(qt[1])\n",
    "\n",
    "markt(2.25)"
   ]
  },
  {
   "cell_type": "code",
   "execution_count": 12,
   "id": "a72372a0",
   "metadata": {},
   "outputs": [
    {
     "data": {
      "text/plain": [
       "     fun: -1.5223745379589468\n",
       "     jac: array([-0.64090414, -0.48078573])\n",
       " message: 'Optimization terminated successfully'\n",
       "    nfev: 18\n",
       "     nit: 6\n",
       "    njev: 6\n",
       "  status: 0\n",
       " success: True\n",
       "       x: array([0.79178482, 2.11095358])"
      ]
     },
     "execution_count": 12,
     "metadata": {},
     "output_type": "execute_result"
    }
   ],
   "source": [
    "#exercise 5\n",
    "al = 1/3\n",
    "\n",
    "def u1(x):\n",
    "    return -x[0]**(al)*x[1]**(1-al)\n",
    "\n",
    "p=np.array([1,0.75])\n",
    "cs=np.array([2,0.5])\n",
    "\n",
    "def cons1(x):\n",
    "    return (cs[0]*p[0])+(cs[1*p[1]])-x[0]*p[0]-x[1]*p[1]\n",
    "\n",
    "constr1 = {'type':'ineq','fun':con1}\n",
    "x0 = np.array([1,1])\n",
    "\n",
    "opt.minimize(u1,x0,constraints=constr1)"
   ]
  },
  {
   "cell_type": "code",
   "execution_count": 13,
   "id": "eaad9fc3",
   "metadata": {},
   "outputs": [
    {
     "data": {
      "text/plain": [
       "     fun: -1.3831690556444516\n",
       "     jac: array([-0.58244455, -0.43670385])\n",
       " message: 'Optimization terminated successfully'\n",
       "    nfev: 15\n",
       "     nit: 5\n",
       "    njev: 5\n",
       "  status: 0\n",
       " success: True\n",
       "       x: array([1.58317678, 1.05576429])"
      ]
     },
     "execution_count": 13,
     "metadata": {},
     "output_type": "execute_result"
    }
   ],
   "source": [
    "al= 2/3\n",
    "\n",
    "def u1(x):\n",
    "    return -x[0]**(al)*x[1]**(1-al)\n",
    "\n",
    "p=np.array([1,0.75])\n",
    "cs=np.array([2,0.5])\n",
    "\n",
    "def cons1(x):\n",
    "    return (cs[0]*p[0])+(cs[1*p[1]])-x[0]*p[0]-x[1]*p[1]\n",
    "\n",
    "constr1 = {'type':'ineq','fun':con1}\n",
    "x0 = np.array([1,1])\n",
    "\n",
    "opt.minimize(u1,x0,constraints=constr1)"
   ]
  },
  {
   "cell_type": "code",
   "execution_count": 14,
   "id": "380b0a66",
   "metadata": {},
   "outputs": [
    {
     "data": {
      "text/plain": [
       "0.7000000000000002"
      ]
     },
     "execution_count": 14,
     "metadata": {},
     "output_type": "execute_result"
    }
   ],
   "source": [
    "qb = np.array([0.5,2])\n",
    "\n",
    "def markb(B):\n",
    "    return B -(qb[0])-(qb[1])\n",
    "\n",
    "markb(3.2)"
   ]
  },
  {
   "cell_type": "code",
   "execution_count": 15,
   "id": "9e3c41f8",
   "metadata": {},
   "outputs": [
    {
     "data": {
      "text/plain": [
       "-0.10000000000000009"
      ]
     },
     "execution_count": 15,
     "metadata": {},
     "output_type": "execute_result"
    }
   ],
   "source": [
    "qt = np.array([2,0.5])\n",
    "\n",
    "def markt(T):\n",
    "    return T -(qt[0])-(qt[1])\n",
    "\n",
    "markt(2.4)"
   ]
  },
  {
   "cell_type": "code",
   "execution_count": 16,
   "id": "158aded0",
   "metadata": {},
   "outputs": [
    {
     "data": {
      "text/plain": [
       "     fun: -1.3228342098937493\n",
       "     jac: array([-0.52830726, -0.52954738])\n",
       " message: 'Optimization terminated successfully'\n",
       "    nfev: 16\n",
       "     nit: 5\n",
       "    njev: 5\n",
       "  status: 0\n",
       " success: True\n",
       "       x: array([0.83334627, 1.66665373])"
      ]
     },
     "execution_count": 16,
     "metadata": {},
     "output_type": "execute_result"
    }
   ],
   "source": [
    "al= 1/3\n",
    "\n",
    "def u1(x):\n",
    "    return -x[0]**(al)*x[1]**(1-al)\n",
    "\n",
    "p=np.array([1,1])\n",
    "cs=np.array([2,0.5])\n",
    "\n",
    "def cons1(x):\n",
    "    return (cs[0]*p[0])+(cs[1*p[1]])-x[0]*p[0]-x[1]*p[1]\n",
    "\n",
    "constr1 = {'type':'ineq','fun':con1}\n",
    "x0 = np.array([1,1])\n",
    "\n",
    "opt.minimize(u1,x0,constraints=constr1)"
   ]
  },
  {
   "cell_type": "code",
   "execution_count": 17,
   "id": "33684c75",
   "metadata": {},
   "outputs": [
    {
     "data": {
      "text/plain": [
       "     fun: -1.322834209893856\n",
       "     jac: array([-0.52954738, -0.52830724])\n",
       " message: 'Optimization terminated successfully'\n",
       "    nfev: 16\n",
       "     nit: 5\n",
       "    njev: 5\n",
       "  status: 0\n",
       " success: True\n",
       "       x: array([1.66665373, 0.83334627])"
      ]
     },
     "execution_count": 17,
     "metadata": {},
     "output_type": "execute_result"
    }
   ],
   "source": [
    "al= 2/3\n",
    "\n",
    "def u1(x):\n",
    "    return -x[0]**(al)*x[1]**(1-al)\n",
    "\n",
    "p=np.array([1,1])\n",
    "cs=np.array([0.5,2])\n",
    "\n",
    "def cons1(x):\n",
    "    return (cs[0]*p[0])+(cs[1*p[1]])-x[0]*p[0]-x[1]*p[1]\n",
    "\n",
    "constr1 = {'type':'ineq','fun':con1}\n",
    "x0 = np.array([1,1])\n",
    "\n",
    "opt.minimize(u1,x0,constraints=constr1)"
   ]
  },
  {
   "cell_type": "code",
   "execution_count": 18,
   "id": "def77ad7",
   "metadata": {},
   "outputs": [
    {
     "data": {
      "text/plain": [
       "0.0"
      ]
     },
     "execution_count": 18,
     "metadata": {},
     "output_type": "execute_result"
    }
   ],
   "source": [
    "qb = np.array([0.5,2])\n",
    "\n",
    "def markb(B):\n",
    "    return B -(qb[0])-(qb[1])\n",
    "\n",
    "markb(2.50)"
   ]
  },
  {
   "cell_type": "code",
   "execution_count": 19,
   "id": "691e40b0",
   "metadata": {},
   "outputs": [
    {
     "data": {
      "text/plain": [
       "0.0"
      ]
     },
     "execution_count": 19,
     "metadata": {},
     "output_type": "execute_result"
    }
   ],
   "source": [
    "qt = np.array([2,0.5])\n",
    "\n",
    "def markt(T):\n",
    "    return T -(qt[0])-(qt[1])\n",
    "\n",
    "markt(2.5)"
   ]
  },
  {
   "cell_type": "code",
   "execution_count": 20,
   "id": "db352343",
   "metadata": {},
   "outputs": [
    {
     "data": {
      "text/plain": [
       "     fun: -1.1969831261866968\n",
       "     jac: array([-0.45583439, -0.57009152])\n",
       " message: 'Optimization terminated successfully'\n",
       "    nfev: 15\n",
       "     nit: 5\n",
       "    njev: 5\n",
       "  status: 0\n",
       " success: True\n",
       "       x: array([0.87530555, 1.39975556])"
      ]
     },
     "execution_count": 20,
     "metadata": {},
     "output_type": "execute_result"
    }
   ],
   "source": [
    "al= 1/3\n",
    "\n",
    "def u1(x):\n",
    "    return -x[0]**(al)*x[1]**(1-al)\n",
    "\n",
    "p=np.array([1,1.25])\n",
    "cs=np.array([2,0.5])\n",
    "\n",
    "def cons1(x):\n",
    "    return (cs[0]*p[0])+(cs[1*p[1]])-x[0]*p[0]-x[1]*p[1]\n",
    "\n",
    "constr1 = {'type':'ineq','fun':con1}\n",
    "x0 = np.array([1,1])\n",
    "\n",
    "opt.minimize(u1,x0,constraints=constr1)"
   ]
  },
  {
   "cell_type": "code",
   "execution_count": 21,
   "id": "674d9a55",
   "metadata": {},
   "outputs": [
    {
     "data": {
      "text/plain": [
       "     fun: -1.2894110242890044\n",
       "     jac: array([-0.49121083, -0.61398865])\n",
       " message: 'Optimization terminated successfully'\n",
       "    nfev: 18\n",
       "     nit: 6\n",
       "    njev: 6\n",
       "  status: 0\n",
       " success: True\n",
       "       x: array([1.74997637, 0.70001891])"
      ]
     },
     "execution_count": 21,
     "metadata": {},
     "output_type": "execute_result"
    }
   ],
   "source": [
    "al= 2/3\n",
    "\n",
    "def u1(x):\n",
    "    return -x[0]**(al)*x[1]**(1-al)\n",
    "\n",
    "p=np.array([1,1.25])\n",
    "cs=np.array([2,0.5])\n",
    "\n",
    "def cons1(x):\n",
    "    return (cs[0]*p[0])+(cs[1*p[1]])-x[0]*p[0]-x[1]*p[1]\n",
    "\n",
    "constr1 = {'type':'ineq','fun':con1}\n",
    "x0 = np.array([1,1])\n",
    "\n",
    "opt.minimize(u1,x0,constraints=constr1)"
   ]
  },
  {
   "cell_type": "code",
   "execution_count": 22,
   "id": "f8fa4f88",
   "metadata": {},
   "outputs": [
    {
     "data": {
      "text/plain": [
       "-0.3999999999999999"
      ]
     },
     "execution_count": 22,
     "metadata": {},
     "output_type": "execute_result"
    }
   ],
   "source": [
    "qb = np.array([0.5,2])\n",
    "\n",
    "def markb(B):\n",
    "    return B -(qb[0])-(qb[1])\n",
    "\n",
    "markb(2.1)"
   ]
  },
  {
   "cell_type": "code",
   "execution_count": 23,
   "id": "6df73b91",
   "metadata": {},
   "outputs": [
    {
     "data": {
      "text/plain": [
       "0.10000000000000009"
      ]
     },
     "execution_count": 23,
     "metadata": {},
     "output_type": "execute_result"
    }
   ],
   "source": [
    "qt = np.array([2,0.5])\n",
    "\n",
    "def markt(T):\n",
    "    return T -(qt[0])-(qt[1])\n",
    "\n",
    "markt(2.6)"
   ]
  },
  {
   "cell_type": "code",
   "execution_count": 24,
   "id": "b20290ed",
   "metadata": {},
   "outputs": [
    {
     "data": {
      "text/plain": [
       "     fun: -1.110462583424337\n",
       "     jac: array([-0.40377934, -0.60572578])\n",
       " message: 'Optimization terminated successfully'\n",
       "    nfev: 15\n",
       "     nit: 5\n",
       "    njev: 5\n",
       "  status: 0\n",
       " success: True\n",
       "       x: array([0.91672395, 1.22218403])"
      ]
     },
     "execution_count": 24,
     "metadata": {},
     "output_type": "execute_result"
    }
   ],
   "source": [
    "al= 1/3\n",
    "\n",
    "def u1(x):\n",
    "    return -x[0]**(al)*x[1]**(1-al)\n",
    "\n",
    "p=np.array([1,1.5])\n",
    "cs=np.array([2,0.5])\n",
    "\n",
    "def cons1(x):\n",
    "    return (cs[0]*p[0])+(cs[1]*p[1])-x[0]*p[0]-x[1]*p[1]\n",
    "\n",
    "constr1 = {'type':'ineq','fun':con1}\n",
    "x0 = np.array([1,1])\n",
    "\n",
    "opt.minimize(u1,x0,constraints=constr1)"
   ]
  },
  {
   "cell_type": "code",
   "execution_count": 25,
   "id": "e0b8e670",
   "metadata": {},
   "outputs": [
    {
     "data": {
      "text/plain": [
       "     fun: -1.2711622385585757\n",
       "     jac: array([-0.46236904, -0.69297685])\n",
       " message: 'Optimization terminated successfully'\n",
       "    nfev: 15\n",
       "     nit: 5\n",
       "    njev: 5\n",
       "  status: 0\n",
       " success: True\n",
       "       x: array([1.83282489, 0.61145007])"
      ]
     },
     "execution_count": 25,
     "metadata": {},
     "output_type": "execute_result"
    }
   ],
   "source": [
    "al= 2/3\n",
    "\n",
    "def u1(x):\n",
    "    return -x[0]**(al)*x[1]**(1-al)\n",
    "\n",
    "p=np.array([1,1.5])\n",
    "cs=np.array([2,0.5])\n",
    "\n",
    "def cons1(x):\n",
    "    return (cs[0]*p[0])+(cs[1]*p[1])-x[0]*p[0]-x[1]*p[1]\n",
    "\n",
    "constr1 = {'type':'ineq','fun':con1}\n",
    "x0 = np.array([1,1])\n",
    "\n",
    "opt.minimize(u1,x0,constraints=constr1)"
   ]
  },
  {
   "cell_type": "code",
   "execution_count": 26,
   "id": "8d075ceb",
   "metadata": {},
   "outputs": [
    {
     "data": {
      "text/plain": [
       "-0.7"
      ]
     },
     "execution_count": 26,
     "metadata": {},
     "output_type": "execute_result"
    }
   ],
   "source": [
    "qb = np.array([0.5,2])\n",
    "\n",
    "def markb(B):\n",
    "    return B -(qb[0])-(qb[1])\n",
    "\n",
    "markb(1.8)"
   ]
  },
  {
   "cell_type": "code",
   "execution_count": 27,
   "id": "44bf6ec1",
   "metadata": {},
   "outputs": [
    {
     "data": {
      "text/plain": [
       "0.20000000000000018"
      ]
     },
     "execution_count": 27,
     "metadata": {},
     "output_type": "execute_result"
    }
   ],
   "source": [
    "qt = np.array([2,0.5])\n",
    "\n",
    "def markt(T):\n",
    "    return T -(qt[0])-(qt[1])\n",
    "\n",
    "markt(2.7)"
   ]
  },
  {
   "cell_type": "code",
   "execution_count": 31,
   "id": "4b369e83",
   "metadata": {},
   "outputs": [
    {
     "data": {
      "text/plain": [
       "[<matplotlib.lines.Line2D at 0x266a085c910>]"
      ]
     },
     "execution_count": 31,
     "metadata": {},
     "output_type": "execute_result"
    },
    {
     "data": {
      "image/png": "[encoded data removed]",
      "text/plain": [
       "<Figure size 640x480 with 1 Axes>"
      ]
     },
     "metadata": {},
     "output_type": "display_data"
    }
   ],
   "source": [
    "ap = np.array([0.5,0.75,1,1.25,1.5])\n",
    "ad = np.array([3,2.1,1.7,1.4,1.2])\n",
    "\n",
    "plt.title(\"alison's beef demand as pb\")\n",
    "plt.xlabel(\"price\")\n",
    "plt.ylabel(\"alison's beef demand\")\n",
    "\n",
    "plt.plot(ap, ad, color=\"green\")"
   ]
  },
  {
   "cell_type": "code",
   "execution_count": null,
   "id": "19ab1c9a",
   "metadata": {},
   "outputs": [
    {
     "data": {
      "text/plain": [
       "[<matplotlib.lines.Line2D at 0x19969284250>]"
      ]
     },
     "execution_count": 129,
     "metadata": {},
     "output_type": "execute_result"
    },
    {
     "data": {
      "image/png": "[encoded data removed]",
      "text/plain": [
       "<Figure size 432x288 with 1 Axes>"
      ]
     },
     "metadata": {},
     "output_type": "display_data"
    }
   ],
   "source": [
    "jp = np.array([1.5,1.1,0.8,0.7,0.6])\n",
    "\n",
    "plt.title(\"jason beef demand as pb\")\n",
    "plt.xlabel(\"price\")\n",
    "plt.ylabel(\"jason's beef demand\")\n",
    "\n",
    "plt.plot(dp, ad, color=\"blue\")"
   ]
  },
  {
   "cell_type": "code",
   "execution_count": null,
   "id": "87ba3ddc",
   "metadata": {},
   "outputs": [
    {
     "data": {
      "text/plain": [
       "[<matplotlib.lines.Line2D at 0x19964efba60>]"
      ]
     },
     "execution_count": 128,
     "metadata": {},
     "output_type": "execute_result"
    },
    {
     "data": {
      "image/png": "[encoded data removed]",
      "text/plain": [
       "<Figure size 432x288 with 1 Axes>"
      ]
     },
     "metadata": {},
     "output_type": "display_data"
    }
   ],
   "source": [
    "tp = np.array([4.5,3.1,2.5,2.1,1.8])\n",
    "\n",
    "plt.title(\"total beef demand as pb\")\n",
    "plt.xlabel(\"price\")\n",
    "plt.ylabel(\"total beef demand\")\n",
    "\n",
    "plt.plot(dp, ad, color=\"pink\")"
   ]
  },
  {
   "cell_type": "code",
   "execution_count": null,
   "id": "8cc82573",
   "metadata": {},
   "outputs": [],
   "source": []
  }
 ],
 "metadata": {
  "kernelspec": {
   "display_name": "Python 3 (ipykernel)",
   "language": "python",
   "name": "python3"
  },
  "language_info": {
   "codemirror_mode": {
    "name": "ipython",
    "version": 3
   },
   "file_extension": ".py",
   "mimetype": "text/x-python",
   "name": "python",
   "nbconvert_exporter": "python",
   "pygments_lexer": "ipython3",
   "version": "3.9.12"
  }
 },
 "nbformat": 4,
 "nbformat_minor": 5
}
